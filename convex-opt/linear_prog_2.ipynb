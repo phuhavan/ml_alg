{
 "cells": [
  {
   "cell_type": "code",
   "execution_count": 2,
   "metadata": {},
   "outputs": [
    {
     "name": "stdout",
     "output_type": "stream",
     "text": [
      "     pcost       dcost       gap    pres   dres   k/t\n",
      " 0:  8.7333e+03  7.3333e+02  8e+03  0e+00  3e-16  1e+00\n",
      " 1:  4.6781e+03  3.2128e+03  1e+03  2e-16  3e-16  1e+02\n",
      " 2:  4.6062e+03  4.5768e+03  3e+01  1e-16  9e-17  2e+00\n",
      " 3:  4.6001e+03  4.5998e+03  3e-01  3e-16  1e-16  2e-02\n",
      " 4:  4.6000e+03  4.6000e+03  3e-03  3e-16  1e-16  2e-04\n",
      "Optimal solution found.\n",
      "Solution\"\n",
      "[ 6.00e+02]\n",
      "[ 8.99e-05]\n",
      "[ 8.31e-06]\n",
      "[ 4.00e+02]\n",
      "\n"
     ]
    }
   ],
   "source": [
    "from cvxopt import matrix, solvers\n",
    "\n",
    "c = matrix([5.0, 10.0, 15.0, 4.0])\n",
    "G = matrix([[1.0, 0.0, -1.0, 0.0, 0.0, 0.0], [1.0, 0.0, 0.0, -1.0, 0.0, 0.0],\n",
    "           [0.0, 1.0, 0.0, 0.0, -1.0, 0.0], [0.0, 1.0, 0.0, 0.0, 0.0, -1.0]])\n",
    "h = matrix([800.0, 700.0, 0.0, 0.0, 0.0, 0.0])\n",
    "A = matrix([[1.0, 0.0], [0.0, 1.0], [1.0, 0.0], [0.0, 1.0]])\n",
    "b = matrix([600.0, 400.0])\n",
    "\n",
    "\n",
    "solvers.options['show_progress'] = True\n",
    "sol = solvers.lp(c, G, h, A, b)\n",
    "\n",
    "print('Solution\"')\n",
    "print(sol['x'])"
   ]
  },
  {
   "cell_type": "code",
   "execution_count": null,
   "metadata": {},
   "outputs": [],
   "source": []
  }
 ],
 "metadata": {
  "kernelspec": {
   "display_name": "Python 3",
   "language": "python",
   "name": "python3"
  },
  "language_info": {
   "codemirror_mode": {
    "name": "ipython",
    "version": 3
   },
   "file_extension": ".py",
   "mimetype": "text/x-python",
   "name": "python",
   "nbconvert_exporter": "python",
   "pygments_lexer": "ipython3",
   "version": "3.7.4"
  }
 },
 "nbformat": 4,
 "nbformat_minor": 2
}
